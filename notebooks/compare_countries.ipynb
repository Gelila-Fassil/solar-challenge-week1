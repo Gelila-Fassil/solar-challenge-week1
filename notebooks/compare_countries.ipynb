{
 "cells": [
  {
   "cell_type": "code",
   "execution_count": null,
   "id": "feff4eb6",
   "metadata": {
    "vscode": {
     "languageId": "plaintext"
    }
   },
   "outputs": [],
   "source": [
    "import pandas as pd\n",
    "\n",
    "# Load the datasets\n",
    "benin = pd.read_csv(\"data/benin_clean.csv\")\n",
    "sierra_leone = pd.read_csv(\"data/sierra_leone_clean.csv\")\n",
    "togo = pd.read_csv(\"data/togo_clean.csv\")\n",
    "\n",
    "# Add country columns for identification\n",
    "benin['country'] = 'Benin'\n",
    "sierra_leone['country'] = 'Sierra Leone'\n",
    "togo['country'] = 'Togo'\n",
    "\n",
    "# Combine all into one dataframe\n",
    "df = pd.concat([benin, sierra_leone, togo], ignore_index=True)\n",
    "\n",
    "# Display the first few rows\n",
    "df.head()\n"
   ]
  },
  {
   "cell_type": "code",
   "execution_count": null,
   "id": "69cc3e37",
   "metadata": {
    "vscode": {
     "languageId": "plaintext"
    }
   },
   "outputs": [],
   "source": [
    "import seaborn as sns\n",
    "import matplotlib.pyplot as plt\n",
    "\n",
    "metrics = ['GHI', 'DNI', 'DHI']\n",
    "\n",
    "for metric in metrics:\n",
    "    plt.figure(figsize=(8, 5))\n",
    "    sns.boxplot(x='country', y=metric, data=df)\n",
    "    plt.title(f'{metric} by Country')\n",
    "    plt.ylabel(metric)\n",
    "    plt.xlabel('Country')\n",
    "    plt.tight_layout()\n",
    "    plt.show()\n",
    "summary = df.groupby('country')[['GHI', 'DNI', 'DHI']].agg(['mean', 'median', 'std']).round(2)\n",
    "summary\n",
    "from scipy.stats import kruskal\n",
    "\n",
    "ghi_benin = df[df['country'] == 'Benin']['GHI']\n",
    "ghi_sierra = df[df['country'] == 'Sierra Leone']['GHI']\n",
    "ghi_togo = df[df['country'] == 'Togo']['GHI']\n",
    "\n",
    "stat, p_value = kruskal(ghi_benin, ghi_sierra, ghi_togo)\n",
    "print(f'Kruskal-Wallis Test: H-statistic = {stat:.2f}, p-value = {p_value:.4f}')\n"
   ]
  }
 ],
 "metadata": {
  "language_info": {
   "name": "python"
  }
 },
 "nbformat": 4,
 "nbformat_minor": 5
}
