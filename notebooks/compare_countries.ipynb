{
 "cells": [
  {
   "cell_type": "code",
   "execution_count": null,
   "id": "feff4eb6",
   "metadata": {
    "vscode": {
     "languageId": "plaintext"
    }
   },
   "outputs": [],
   "source": [
    "import pandas as pd\n",
    "\n",
    "# Load the datasets\n",
    "benin = pd.read_csv(\"data/benin_clean.csv\")\n",
    "sierra_leone = pd.read_csv(\"data/sierra_leone_clean.csv\")\n",
    "togo = pd.read_csv(\"data/togo_clean.csv\")\n",
    "\n",
    "# Add country columns for identification\n",
    "benin['country'] = 'Benin'\n",
    "sierra_leone['country'] = 'Sierra Leone'\n",
    "togo['country'] = 'Togo'\n",
    "\n",
    "# Combine all into one dataframe\n",
    "df = pd.concat([benin, sierra_leone, togo], ignore_index=True)\n",
    "\n",
    "# Display the first few rows\n",
    "df.head()\n"
   ]
  }
 ],
 "metadata": {
  "language_info": {
   "name": "python"
  }
 },
 "nbformat": 4,
 "nbformat_minor": 5
}
